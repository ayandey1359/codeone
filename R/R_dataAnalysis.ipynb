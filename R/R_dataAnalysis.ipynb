{
 "cells": [
  {
   "cell_type": "markdown",
   "id": "0d9e5361-396c-4060-aa1e-43c6d46ac4d5",
   "metadata": {},
   "source": [
    "# Superstore Data Analysis \n",
    "##### Today I am going to work on Superstore dataset. Analyse the data by **R** and get some usefull insights about the data."
   ]
  },
  {
   "attachments": {},
   "cell_type": "markdown",
   "id": "d9b9b4a7-aac5-498c-8efe-cf8c37c62f98",
   "metadata": {},
   "source": [
    "###### firstly set up the working directory\n",
    "\n",
    "# to see the current working directory\n",
    "getwd()"
   ]
  },
  {
   "cell_type": "code",
   "execution_count": 4,
   "id": "62f670b9-2477-4cc3-b8f3-d3a9cb59988d",
   "metadata": {},
   "outputs": [
    {
     "name": "stderr",
     "output_type": "stream",
     "text": [
      "── \u001b[1mAttaching core tidyverse packages\u001b[22m ──────────────────────────────────────────────────────────────── tidyverse 2.0.0 ──\n",
      "\u001b[32m✔\u001b[39m \u001b[34mdplyr    \u001b[39m 1.1.3     \u001b[32m✔\u001b[39m \u001b[34mreadr    \u001b[39m 2.1.4\n",
      "\u001b[32m✔\u001b[39m \u001b[34mforcats  \u001b[39m 1.0.0     \u001b[32m✔\u001b[39m \u001b[34mstringr  \u001b[39m 1.5.0\n",
      "\u001b[32m✔\u001b[39m \u001b[34mggplot2  \u001b[39m 3.4.3     \u001b[32m✔\u001b[39m \u001b[34mtibble   \u001b[39m 3.2.1\n",
      "\u001b[32m✔\u001b[39m \u001b[34mlubridate\u001b[39m 1.9.2     \u001b[32m✔\u001b[39m \u001b[34mtidyr    \u001b[39m 1.3.0\n",
      "\u001b[32m✔\u001b[39m \u001b[34mpurrr    \u001b[39m 1.0.2     \n",
      "── \u001b[1mConflicts\u001b[22m ────────────────────────────────────────────────────────────────────────────────── tidyverse_conflicts() ──\n",
      "\u001b[31m✖\u001b[39m \u001b[34mdplyr\u001b[39m::\u001b[32mfilter()\u001b[39m masks \u001b[34mstats\u001b[39m::filter()\n",
      "\u001b[31m✖\u001b[39m \u001b[34mdplyr\u001b[39m::\u001b[32mlag()\u001b[39m    masks \u001b[34mstats\u001b[39m::lag()\n",
      "\u001b[36mℹ\u001b[39m Use the conflicted package (\u001b[3m\u001b[34m<http://conflicted.r-lib.org/>\u001b[39m\u001b[23m) to force all conflicts to become errors\n"
     ]
    },
    {
     "ename": "ERROR",
     "evalue": "Error in library(here): there is no package called 'here'\n",
     "output_type": "error",
     "traceback": [
      "Error in library(here): there is no package called 'here'\nTraceback:\n",
      "1. library(here)"
     ]
    }
   ],
   "source": [
    "# importing\n",
    "library(tidyverse)\n",
    "library(here)\n",
    "library(skimr)\n",
    "ll the libraaries what I need the most \n"
   ]
  },
  {
   "cell_type": "code",
   "execution_count": null,
   "id": "0e117bdc-e0ac-48af-acd6-2ab1a8cd56d5",
   "metadata": {},
   "outputs": [],
   "source": [
    "# importing the data -- I will always take the master dataset in variable = ** x **\n",
    "x <- read.csv(\"superstore.csv\")\n",
    "# View(x)"
   ]
  },
  {
   "cell_type": "markdown",
   "id": "d43a5b2e-2e5f-449e-a379-abc6eec5006f",
   "metadata": {},
   "source": [
    "## Explore Understand and Clean the data"
   ]
  },
  {
   "cell_type": "code",
   "execution_count": null,
   "id": "216a3011-6a06-40fa-aa5c-e84a3bbc0002",
   "metadata": {},
   "outputs": [],
   "source": [
    "# see the dimenstion of the dataset\n",
    "dim(x)"
   ]
  },
  {
   "cell_type": "markdown",
   "id": "a5c7012e-22bc-419e-8afb-2d2abfc9e544",
   "metadata": {},
   "source": [
    "###### Number of observation is : 9996\n",
    "###### Number of variable is : 22"
   ]
  },
  {
   "cell_type": "code",
   "execution_count": null,
   "id": "4474e495-152b-47d6-8003-842fcac63061",
   "metadata": {},
   "outputs": [],
   "source": [
    "# let see all the names of the 22 variables \n",
    "names(x)"
   ]
  },
  {
   "cell_type": "code",
   "execution_count": null,
   "id": "3f319b86-3ab7-476f-9c87-7015f0cd2268",
   "metadata": {},
   "outputs": [],
   "source": [
    "# Rename sub.Category varriable name into Sub_Category\n",
    "x <-x %>% rename(sub_category=Sub.Category)\n"
   ]
  },
  {
   "cell_type": "code",
   "execution_count": null,
   "id": "4d70ebbb-8fce-45a4-a6ae-fbfd3d8a9e1f",
   "metadata": {},
   "outputs": [],
   "source": [
    "# confirmation\n",
    "names(x)"
   ]
  },
  {
   "cell_type": "code",
   "execution_count": null,
   "id": "ca0f8aa1-1d32-456b-a9e6-c78c09c5f12d",
   "metadata": {},
   "outputs": [],
   "source": [
    "# let rename all the variable name to smaller case\n",
    "names(x) <- tolower(names(x))"
   ]
  },
  {
   "cell_type": "code",
   "execution_count": null,
   "id": "0d6332e3-1bb4-41af-ba20-7ad1bf15e13f",
   "metadata": {},
   "outputs": [],
   "source": [
    "# confirmation\n",
    "names(x)"
   ]
  },
  {
   "cell_type": "code",
   "execution_count": null,
   "id": "71ca5e45-48c2-4dcf-8f99-c5c56d3fcec1",
   "metadata": {},
   "outputs": [],
   "source": [
    "# let see the structure and datatype of variables of data\n",
    "glimpse(x)"
   ]
  },
  {
   "cell_type": "markdown",
   "id": "8a73f22e-c7a5-4baf-88c0-7c9268b20ea2",
   "metadata": {},
   "source": [
    "###### now work with each variable "
   ]
  },
  {
   "cell_type": "code",
   "execution_count": null,
   "id": "9e0c4054-4049-4a4e-a4b9-e8f9fa3eae2d",
   "metadata": {},
   "outputs": [],
   "source": [
    "# change datatype of order_date variable datatype into - date datatype\n",
    "x$order_date<- as.Date(x$order_date)"
   ]
  },
  {
   "cell_type": "code",
   "execution_count": null,
   "id": "53550c12-cc51-4ed2-9a13-b2ba70622353",
   "metadata": {},
   "outputs": [],
   "source": [
    "# confirmation\n",
    "class(x$order_date)"
   ]
  },
  {
   "cell_type": "code",
   "execution_count": null,
   "id": "f8ce714f-24fa-44e5-a648-bbc937039393",
   "metadata": {},
   "outputs": [],
   "source": [
    "# change datatype of ship_date variable datatype into - date datatype\n",
    "x$ship_date<- as.Date(x$ship_date)"
   ]
  },
  {
   "cell_type": "code",
   "execution_count": null,
   "id": "9037e72f-e64c-49b0-bcf0-3bc990ccf7fb",
   "metadata": {},
   "outputs": [],
   "source": [
    "# confirmation\n",
    "class(x$ship_date)"
   ]
  },
  {
   "cell_type": "code",
   "execution_count": null,
   "id": "0345e0c6-2cb5-4b45-904d-1d308bd46cb7",
   "metadata": {},
   "outputs": [],
   "source": [
    "# change datatype of ship_mode variable datatype into factor datatype\n",
    "x$ship_mode<- as.factor(x$ship_mode)"
   ]
  },
  {
   "cell_type": "code",
   "execution_count": null,
   "id": "ae124c5f-1c6a-4dea-ac9d-0b87b9299804",
   "metadata": {},
   "outputs": [],
   "source": [
    "# confirmation\n",
    "class(x$ship_mode)"
   ]
  },
  {
   "cell_type": "code",
   "execution_count": null,
   "id": "9bb0af70-1d5b-4e4a-87f9-f41276876d1f",
   "metadata": {},
   "outputs": [],
   "source": [
    "# change datatype of sales variable datatype into - Numeric datatype\n",
    "x$sales<- as.numeric(x$sales)"
   ]
  },
  {
   "cell_type": "markdown",
   "id": "0c577805-b0c4-4414-9748-febe09b48f6f",
   "metadata": {},
   "source": [
    "###### NULL value introduced in sales vector"
   ]
  },
  {
   "cell_type": "code",
   "execution_count": null,
   "id": "4cfda95c-bfa1-435c-a431-f95ccda7d6ed",
   "metadata": {},
   "outputs": [],
   "source": [
    "# let ignore the NULL value for now and do the pending operation\n",
    "x$sales<- as.numeric(x$sales,na.rm=TRUE)"
   ]
  },
  {
   "cell_type": "code",
   "execution_count": null,
   "id": "d59c15f8-18f6-45a4-bb13-fa8f8c312b9e",
   "metadata": {},
   "outputs": [],
   "source": [
    "# confirmation\n",
    "class(x$sales)"
   ]
  },
  {
   "cell_type": "code",
   "execution_count": null,
   "id": "132c603c-233c-474f-aa38-0204adbaf159",
   "metadata": {},
   "outputs": [],
   "source": [
    "# let see again the structure of the data\n",
    "glimpse(x)"
   ]
  },
  {
   "cell_type": "markdown",
   "id": "928ffd78-2281-4a31-9a8d-23b9fe9ad55f",
   "metadata": {},
   "source": [
    "###### there are a x variable which make me dought so let work on it"
   ]
  },
  {
   "cell_type": "code",
   "execution_count": null,
   "id": "3b1fe778-7431-4913-ae4d-cb28ce8efa69",
   "metadata": {},
   "outputs": [],
   "source": [
    "# let see the total length of x variable\n",
    "length(x$x)"
   ]
  },
  {
   "cell_type": "code",
   "execution_count": null,
   "id": "a0e476b1-418b-4180-b29b-4aa476319ce9",
   "metadata": {},
   "outputs": [],
   "source": [
    "# there have total 9996 obs. \n",
    "# let see how many NULL value are there\n",
    "sum(is.na(x$x))"
   ]
  },
  {
   "cell_type": "code",
   "execution_count": null,
   "id": "09b6ed06-0684-4fe6-9488-3298bada62ec",
   "metadata": {},
   "outputs": [],
   "source": [
    "# let see how much data hoding that variable\n",
    "sum( ! is.na(x$x))"
   ]
  },
  {
   "cell_type": "markdown",
   "id": "26f4c6e2-97d0-49ea-930c-9ee26464e652",
   "metadata": {},
   "source": [
    "###### total 9996 values and 9990 NULL\n",
    "###### total 6 values are there"
   ]
  },
  {
   "cell_type": "code",
   "execution_count": null,
   "id": "3a0c0829-1d93-4554-a364-08833a33fedb",
   "metadata": {},
   "outputs": [],
   "source": [
    "# let locate those values\n",
    "which( ! is.na(x$x))"
   ]
  },
  {
   "cell_type": "code",
   "execution_count": null,
   "id": "a3ed6148-bb4a-4062-9635-a3726f93a81d",
   "metadata": {},
   "outputs": [],
   "source": [
    "# let see all those obs. and those values understand importancy\n",
    "x[ which (!is.na(x$x)), ] "
   ]
  },
  {
   "cell_type": "markdown",
   "id": "a9a8eea6-a5c5-45b0-bb59-9e6707642efc",
   "metadata": {},
   "source": [
    "###### conclusion : i can't just drop the x variable becaue it hold number 6 values"
   ]
  },
  {
   "cell_type": "markdown",
   "id": "eae27142-964b-4a74-9028-b7303527fa15",
   "metadata": {},
   "source": [
    "###### but those values are unidentified and very confusion , what the values belongs to\n",
    "###### after confirmation i decided to drop this variable"
   ]
  },
  {
   "cell_type": "code",
   "execution_count": null,
   "id": "18ed5375-b51e-4aa4-a5cd-c18d8dd04e7b",
   "metadata": {},
   "outputs": [],
   "source": [
    "# now let locate the variable\n",
    "which(names(x)== \"x\")"
   ]
  },
  {
   "cell_type": "code",
   "execution_count": null,
   "id": "5fa54a03-9d94-4c14-aa70-e7f580777df5",
   "metadata": {},
   "outputs": [],
   "source": [
    "# let remove that  by creating another variable ( Y)\n",
    "y<-x[ , -22]"
   ]
  },
  {
   "cell_type": "markdown",
   "id": "80d02ea0-ca4b-4209-bcb9-3143c2fa47d8",
   "metadata": {},
   "source": [
    "## now working varriable will be : y"
   ]
  },
  {
   "cell_type": "code",
   "execution_count": null,
   "id": "c49da47b-cec0-496e-ae71-3972894c145f",
   "metadata": {},
   "outputs": [],
   "source": [
    "print(\" The new dimension is: \" )\n",
    "dim(y)"
   ]
  },
  {
   "cell_type": "code",
   "execution_count": null,
   "id": "58a14fbc-a19f-42a8-b88c-51d48378d59e",
   "metadata": {},
   "outputs": [],
   "source": [
    "# final confirmation \n",
    "glimpse(y)"
   ]
  },
  {
   "cell_type": "markdown",
   "id": "8a1fa4ef-d305-4527-85fb-cef594dd10a1",
   "metadata": {},
   "source": [
    "###### all variable name , data type are set \n",
    "###### now its time to deep dive inside the data "
   ]
  },
  {
   "cell_type": "markdown",
   "id": "d4b9b585-5b1e-4029-baec-795dfac4692f",
   "metadata": {},
   "source": [
    "##### NULL values"
   ]
  },
  {
   "cell_type": "code",
   "execution_count": null,
   "id": "9a530048-086e-4acb-8822-a1a2f4f0c67e",
   "metadata": {},
   "outputs": [],
   "source": [
    "# let check NULL values of each variable\n",
    "# y <- working data\n",
    "for ( i in 1:ncol(y)){\n",
    "    print(paste(\" null value of \",names(x[i]),\"Obs. \", \" index: \",i ))\n",
    "     print(sum(is.na(y[i])) )\n",
    "        }\n",
    "              \n",
    "    "
   ]
  },
  {
   "cell_type": "markdown",
   "id": "5d368314-6b0c-4999-ae47-f883cd2a37d6",
   "metadata": {},
   "source": [
    "###### let see each variable which have NULL values"
   ]
  },
  {
   "cell_type": "code",
   "execution_count": null,
   "id": "a03685fa-bdc6-43ad-8843-6273ec1a00e4",
   "metadata": {},
   "outputs": [],
   "source": [
    "# let see all those data with max null\n",
    "y[ , c(1:5)]"
   ]
  },
  {
   "cell_type": "code",
   "execution_count": null,
   "id": "53a12b93-b197-4325-8839-6c19639bd0f6",
   "metadata": {},
   "outputs": [],
   "source": [
    "# let see with out order_date and ship_date\n",
    "y[ , -c(3:4)]"
   ]
  },
  {
   "cell_type": "markdown",
   "id": "6788ca71-afdd-4798-9408-1b0aa92c6744",
   "metadata": {},
   "source": [
    "###### it undestood that this two column dont have much value right now to analysis , so i decided to drop this two columns -\n",
    "###### -but also there have null in quantity(1), sales(6), discount(6) and profit ( 1)  \n",
    "###### but I should not remove all those rows and just ignore when analysis."
   ]
  },
  {
   "cell_type": "code",
   "execution_count": null,
   "id": "d7a9a361-da58-4dc2-829f-50e561928098",
   "metadata": {},
   "outputs": [],
   "source": [
    "# let store the data without order_date and ship_date\n",
    "y<- y[ , -c(3:4)]"
   ]
  },
  {
   "cell_type": "markdown",
   "id": "863ca6af-d6b4-49f3-a66d-5ef5aa4ff515",
   "metadata": {},
   "source": [
    "##### Duplicates"
   ]
  },
  {
   "cell_type": "code",
   "execution_count": null,
   "id": "45d56cc4-4fb0-4e92-85a3-4971a2becff6",
   "metadata": {},
   "outputs": [],
   "source": [
    "# just over view the boolean matrix \n",
    "duplicated(x)"
   ]
  },
  {
   "cell_type": "code",
   "execution_count": null,
   "id": "71e3f58e-7c39-4193-8ab4-cfbc586b1fbc",
   "metadata": {},
   "outputs": [],
   "source": [
    "# retrive all duplicate obs.\n",
    "z<-y[duplicated(y), ]\n",
    "write.csv(z,\"see_in_LibreOffice.csv\")"
   ]
  },
  {
   "cell_type": "code",
   "execution_count": null,
   "id": "bdea5c40-b490-4330-be5c-c4dc515be9d3",
   "metadata": {},
   "outputs": [],
   "source": [
    "# now remove all the duplicate obs. and make data clean\n",
    "y<-y[!duplicated(y), ]\n",
    "# y"
   ]
  },
  {
   "cell_type": "markdown",
   "id": "98f20c84-10fb-40a7-ae0b-fb0c32b1af25",
   "metadata": {},
   "source": [
    "##### now the is cleaned and ready to save and Analysis"
   ]
  },
  {
   "cell_type": "markdown",
   "id": "90d3ec1f-5794-4158-8f41-746f8c1f7546",
   "metadata": {},
   "source": [
    "## Analysis"
   ]
  },
  {
   "cell_type": "code",
   "execution_count": null,
   "id": "4cfeac18-6c29-43c2-9b15-1d0a220ebc0c",
   "metadata": {},
   "outputs": [],
   "source": [
    "# now save the cleaned file \n",
    "write.csv(y,\"superstore_cleaned.csv\")"
   ]
  },
  {
   "cell_type": "code",
   "execution_count": null,
   "id": "bde018b2-3966-4725-b20b-ad3bf40fcd1e",
   "metadata": {},
   "outputs": [],
   "source": [
    "# let check the sales variable\n"
   ]
  },
  {
   "cell_type": "code",
   "execution_count": null,
   "id": "8eb0d5f7-f077-43f9-8f50-e556fb53c484",
   "metadata": {},
   "outputs": [],
   "source": [
    "for(i in 1:ncol(y)){\n",
    "    print(paste(\"index\",i,names(y[i])))}"
   ]
  },
  {
   "cell_type": "code",
   "execution_count": null,
   "id": "cf61677f-94e8-47ff-8ab1-04a2576274d1",
   "metadata": {},
   "outputs": [],
   "source": [
    "y"
   ]
  },
  {
   "cell_type": "code",
   "execution_count": null,
   "id": "b6367d58-7041-480c-bce6-506849be89d1",
   "metadata": {},
   "outputs": [],
   "source": [
    "for(i in 1:nrow(y)){\n",
    "    if(duplicated(y[i, ] == FALSE)){\n",
    "        print(\"hello\")}}"
   ]
  },
  {
   "cell_type": "code",
   "execution_count": null,
   "id": "42205a6e-6c26-44f2-abab-338058100c67",
   "metadata": {},
   "outputs": [],
   "source": [
    "k"
   ]
  },
  {
   "cell_type": "code",
   "execution_count": null,
   "id": "278b2e0a-9d30-4772-8c77-933e9b479167",
   "metadata": {},
   "outputs": [],
   "source": []
  },
  {
   "cell_type": "code",
   "execution_count": null,
   "id": "fa3c7cfe-bf35-40c2-abe8-b1faf1fa8f40",
   "metadata": {},
   "outputs": [],
   "source": []
  }
 ],
 "metadata": {
  "kernelspec": {
   "display_name": "R",
   "language": "R",
   "name": "ir"
  },
  "language_info": {
   "codemirror_mode": "r",
   "file_extension": ".r",
   "mimetype": "text/x-r-source",
   "name": "R",
   "pygments_lexer": "r",
   "version": "4.3.1"
  }
 },
 "nbformat": 4,
 "nbformat_minor": 5
}
